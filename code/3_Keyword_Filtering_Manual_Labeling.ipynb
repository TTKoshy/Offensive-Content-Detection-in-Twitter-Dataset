{
  "nbformat": 4,
  "nbformat_minor": 0,
  "metadata": {
    "colab": {
      "provenance": [],
      "gpuType": "T4"
    },
    "kernelspec": {
      "name": "python3",
      "display_name": "Python 3"
    },
    "language_info": {
      "name": "python"
    },
    "accelerator": "GPU"
  },
  "cells": [
    {
      "cell_type": "markdown",
      "source": [
        "# Keyword Filtering and Manual labeling\n",
        "This notebook was created to extract political keywords from the Tweet text and randomly extract 6,500 tweets for manual labeling from tweets that contain at least one political keyword"
      ],
      "metadata": {
        "id": "1NGvnRrByXCn"
      }
    },
    {
      "cell_type": "code",
      "source": [
        "from google.colab import drive\n",
        "drive.mount('/content/drive')"
      ],
      "metadata": {
        "id": "sHBNgr8Y2K-x",
        "colab": {
          "base_uri": "https://localhost:8080/"
        },
        "outputId": "250b7c68-b588-4afc-843f-cc0843e90936"
      },
      "execution_count": null,
      "outputs": [
        {
          "output_type": "stream",
          "name": "stdout",
          "text": [
            "Mounted at /content/drive\n"
          ]
        }
      ]
    },
    {
      "cell_type": "code",
      "source": [
        "import pandas as pd\n",
        "base_path = \"/content/drive/MyDrive/MRP_Offensive_Content_Detection/Twitter_Data/Part_38/\"\n",
        "dataset_name = \"Part_38_processed_new.csv\"\n",
        "df_part38 = pd.read_csv(base_path + dataset_name)"
      ],
      "metadata": {
        "id": "azaXnwRiy4JM"
      },
      "execution_count": null,
      "outputs": []
    },
    {
      "cell_type": "code",
      "source": [
        "df_part38.info()"
      ],
      "metadata": {
        "colab": {
          "base_uri": "https://localhost:8080/"
        },
        "id": "lTW_7_1yzUuF",
        "outputId": "3fc8769a-0bb4-4f73-cca7-4f7f2df9daab"
      },
      "execution_count": null,
      "outputs": [
        {
          "output_type": "stream",
          "name": "stdout",
          "text": [
            "<class 'pandas.core.frame.DataFrame'>\n",
            "RangeIndex: 156281 entries, 0 to 156280\n",
            "Data columns (total 36 columns):\n",
            " #   Column                     Non-Null Count   Dtype  \n",
            "---  ------                     --------------   -----  \n",
            " 0   Unnamed: 0                 156281 non-null  int64  \n",
            " 1   type                       156281 non-null  object \n",
            " 2   id                         156281 non-null  int64  \n",
            " 3   username                   156281 non-null  object \n",
            " 4   text                       156281 non-null  object \n",
            " 5   url                        156281 non-null  object \n",
            " 6   epoch                      156281 non-null  float64\n",
            " 7   media                      156281 non-null  object \n",
            " 8   retweetedTweet             156281 non-null  bool   \n",
            " 9   retweetedTweetID           0 non-null       float64\n",
            " 10  retweetedUserID            0 non-null       float64\n",
            " 11  id_str                     156281 non-null  int64  \n",
            " 12  lang                       156281 non-null  object \n",
            " 13  rawContent                 156281 non-null  object \n",
            " 14  replyCount                 156281 non-null  int64  \n",
            " 15  retweetCount               156281 non-null  int64  \n",
            " 16  likeCount                  156281 non-null  int64  \n",
            " 17  quoteCount                 156281 non-null  int64  \n",
            " 18  conversationId             156281 non-null  int64  \n",
            " 19  conversationIdStr          156281 non-null  int64  \n",
            " 20  hashtags                   156281 non-null  object \n",
            " 21  mentionedUsers             156281 non-null  object \n",
            " 22  links                      156281 non-null  object \n",
            " 23  viewCount                  156281 non-null  object \n",
            " 24  quotedTweet                156281 non-null  bool   \n",
            " 25  in_reply_to_screen_name    103143 non-null  object \n",
            " 26  in_reply_to_status_id_str  100961 non-null  float64\n",
            " 27  in_reply_to_user_id_str    103143 non-null  float64\n",
            " 28  location                   0 non-null       float64\n",
            " 29  cash_app_handle            0 non-null       float64\n",
            " 30  user                       156281 non-null  object \n",
            " 31  in_reply_to_user_id_str.1  0 non-null       float64\n",
            " 32  location.1                 0 non-null       float64\n",
            " 33  cash_app_handle.1          0 non-null       float64\n",
            " 34  user.1                     0 non-null       float64\n",
            " 35  date                       156281 non-null  object \n",
            "dtypes: bool(2), float64(11), int64(9), object(14)\n",
            "memory usage: 40.8+ MB\n"
          ]
        }
      ]
    },
    {
      "cell_type": "code",
      "source": [
        "pd.set_option('display.max_rows', None)  # Show all rows\n",
        "pd.set_option('display.max_columns', None)  # Show all columns\n",
        "pd.set_option('display.max_colwidth', None)  # Prevent text truncation"
      ],
      "metadata": {
        "id": "E9bEtUGi1TsH"
      },
      "execution_count": null,
      "outputs": []
    },
    {
      "cell_type": "code",
      "source": [
        "df_part38 = df_part38.drop(['in_reply_to_user_id_str.1', 'location.1', 'cash_app_handle.1', 'user.1'], axis=1)\n",
        "df_part38.shape"
      ],
      "metadata": {
        "colab": {
          "base_uri": "https://localhost:8080/"
        },
        "id": "B5EJ1seWzWue",
        "outputId": "ee392d97-20c9-416f-f8ac-08a25af56711"
      },
      "execution_count": null,
      "outputs": [
        {
          "output_type": "execute_result",
          "data": {
            "text/plain": [
              "(156281, 32)"
            ]
          },
          "metadata": {},
          "execution_count": 6
        }
      ]
    },
    {
      "cell_type": "code",
      "source": [
        "df_part38.duplicated().sum()"
      ],
      "metadata": {
        "colab": {
          "base_uri": "https://localhost:8080/"
        },
        "id": "Sanlkf0Yzio7",
        "outputId": "3450e494-be72-4211-83a3-90e86b598b74"
      },
      "execution_count": null,
      "outputs": [
        {
          "output_type": "execute_result",
          "data": {
            "text/plain": [
              "np.int64(0)"
            ]
          },
          "metadata": {},
          "execution_count": 7
        }
      ]
    },
    {
      "cell_type": "code",
      "source": [
        "df_part38.duplicated(subset=['text']).sum()"
      ],
      "metadata": {
        "colab": {
          "base_uri": "https://localhost:8080/"
        },
        "id": "gG3UfnWzz1Y7",
        "outputId": "ba413279-29e2-4bd1-ea8c-278bd0ebb6f0"
      },
      "execution_count": null,
      "outputs": [
        {
          "output_type": "execute_result",
          "data": {
            "text/plain": [
              "np.int64(45721)"
            ]
          },
          "metadata": {},
          "execution_count": 8
        }
      ]
    },
    {
      "cell_type": "code",
      "source": [
        "# Drop all rows with duplicates in text column for manual labeling\n",
        "df_cleaned = df_part38.drop_duplicates(subset=['text']).copy()"
      ],
      "metadata": {
        "id": "sCC6_Dwkzn2Q"
      },
      "execution_count": null,
      "outputs": []
    },
    {
      "cell_type": "code",
      "source": [
        "from collections import Counter\n",
        "import re\n",
        "\n",
        "# Define the keywords\n",
        "keywords = [\n",
        "    \"2024 Elections\", \"2024 Presidential Election\", \"Biden\", \"Biden2024\", \"conservative\",\n",
        "    \"CPAC\", \"Donald Trump\", \"GOP\", \"Joe Biden and Kamala Harris\", \"Joe Biden\",\n",
        "    \"Joseph Biden\", \"KAG\", \"MAGA\", \"Nikki Haley\", \"RNC\", \"Ron DeSantis\", \"Snowballing\",\n",
        "    \"Trump2024\", \"trumpsupporters\", \"trumptrain\", \"US Elections\", \"thedemocrats\",\n",
        "    \"DNC\", \"Kamala Harris\", \"Marianne Williamson\", \"Dean Phillips\", \"williamson2024\",\n",
        "    \"phillips2024\", \"Democratic party\", \"Republican party\", \"Third Party\", \"Green Party\",\n",
        "    \"Independent Party\", \"No Labels\", \"RFK Jr\", \"Robert F. Kennedy Jr.\", \"Jill Stein\",\n",
        "    \"Cornel West\", \"ultramaga\", \"voteblue2024\", \"letsgobrandon\", \"bidenharris2024\",\n",
        "    \"makeamericagreatagain\", \"Vivek Ramaswamy\",\n",
        "    \"Trump\", \"Donald\", \"Joe\", \"Kamala\", \"MAKE AMERICA GREAT AGAIN\"\n",
        "]\n",
        "\n",
        "keyword_patterns = {kw: re.compile(rf'(?i)\\b{re.escape(kw)}\\b|{re.escape(kw)}', re.IGNORECASE) for kw in keywords}"
      ],
      "metadata": {
        "id": "__eO2j3Hz7lb"
      },
      "execution_count": null,
      "outputs": []
    },
    {
      "cell_type": "code",
      "source": [
        "def find_keywords(text):\n",
        "    found_keywords = []\n",
        "    for keyword, pattern in keyword_patterns.items():\n",
        "        if pattern.search(text):\n",
        "            found_keywords.append(keyword)\n",
        "    return found_keywords"
      ],
      "metadata": {
        "id": "wLuRPo68z926"
      },
      "execution_count": null,
      "outputs": []
    },
    {
      "cell_type": "code",
      "source": [
        "# Apply the function to find keywords in each text\n",
        "df_cleaned['matched_keywords'] = df_cleaned['text'].apply(lambda x: find_keywords(x))\n",
        "df_cleaned.shape"
      ],
      "metadata": {
        "colab": {
          "base_uri": "https://localhost:8080/"
        },
        "id": "4dSJJ1bS0BTJ",
        "outputId": "d6f2ed20-0c98-498b-eaf6-dbd24beab75c"
      },
      "execution_count": null,
      "outputs": [
        {
          "output_type": "execute_result",
          "data": {
            "text/plain": [
              "(110560, 33)"
            ]
          },
          "metadata": {},
          "execution_count": 12
        }
      ]
    },
    {
      "cell_type": "code",
      "source": [
        "df_cleaned['matched_keywords'].value_counts().shape"
      ],
      "metadata": {
        "colab": {
          "base_uri": "https://localhost:8080/"
        },
        "id": "DzBcfmfJ0Ey6",
        "outputId": "ff96a487-c71b-444c-d7ce-ab224bde14f7"
      },
      "execution_count": null,
      "outputs": [
        {
          "output_type": "execute_result",
          "data": {
            "text/plain": [
              "(570,)"
            ]
          },
          "metadata": {},
          "execution_count": 13
        }
      ]
    },
    {
      "cell_type": "code",
      "source": [
        "df_cleaned['matched_keywords'].value_counts().head(10)"
      ],
      "metadata": {
        "colab": {
          "base_uri": "https://localhost:8080/",
          "height": 429
        },
        "id": "mSSwVlsZHiAk",
        "outputId": "d769b7d9-e9a9-4026-f89a-1ba4bd35ac58"
      },
      "execution_count": null,
      "outputs": [
        {
          "output_type": "execute_result",
          "data": {
            "text/plain": [
              "matched_keywords\n",
              "[Biden]                          25594\n",
              "[]                               16325\n",
              "[Donald Trump, Trump, Donald]    12408\n",
              "[Kamala Harris, Kamala]          10422\n",
              "[Biden, Trump]                    8836\n",
              "[MAGA]                            5592\n",
              "[Biden, Joe Biden, Joe]           3598\n",
              "[Trump]                           2668\n",
              "[conservative]                    2467\n",
              "[Biden, Kamala]                   2466\n",
              "Name: count, dtype: int64"
            ],
            "text/html": [
              "<div>\n",
              "<style scoped>\n",
              "    .dataframe tbody tr th:only-of-type {\n",
              "        vertical-align: middle;\n",
              "    }\n",
              "\n",
              "    .dataframe tbody tr th {\n",
              "        vertical-align: top;\n",
              "    }\n",
              "\n",
              "    .dataframe thead th {\n",
              "        text-align: right;\n",
              "    }\n",
              "</style>\n",
              "<table border=\"1\" class=\"dataframe\">\n",
              "  <thead>\n",
              "    <tr style=\"text-align: right;\">\n",
              "      <th></th>\n",
              "      <th>count</th>\n",
              "    </tr>\n",
              "    <tr>\n",
              "      <th>matched_keywords</th>\n",
              "      <th></th>\n",
              "    </tr>\n",
              "  </thead>\n",
              "  <tbody>\n",
              "    <tr>\n",
              "      <th>[Biden]</th>\n",
              "      <td>25594</td>\n",
              "    </tr>\n",
              "    <tr>\n",
              "      <th>[]</th>\n",
              "      <td>16325</td>\n",
              "    </tr>\n",
              "    <tr>\n",
              "      <th>[Donald Trump, Trump, Donald]</th>\n",
              "      <td>12408</td>\n",
              "    </tr>\n",
              "    <tr>\n",
              "      <th>[Kamala Harris, Kamala]</th>\n",
              "      <td>10422</td>\n",
              "    </tr>\n",
              "    <tr>\n",
              "      <th>[Biden, Trump]</th>\n",
              "      <td>8836</td>\n",
              "    </tr>\n",
              "    <tr>\n",
              "      <th>[MAGA]</th>\n",
              "      <td>5592</td>\n",
              "    </tr>\n",
              "    <tr>\n",
              "      <th>[Biden, Joe Biden, Joe]</th>\n",
              "      <td>3598</td>\n",
              "    </tr>\n",
              "    <tr>\n",
              "      <th>[Trump]</th>\n",
              "      <td>2668</td>\n",
              "    </tr>\n",
              "    <tr>\n",
              "      <th>[conservative]</th>\n",
              "      <td>2467</td>\n",
              "    </tr>\n",
              "    <tr>\n",
              "      <th>[Biden, Kamala]</th>\n",
              "      <td>2466</td>\n",
              "    </tr>\n",
              "  </tbody>\n",
              "</table>\n",
              "</div><br><label><b>dtype:</b> int64</label>"
            ]
          },
          "metadata": {},
          "execution_count": 14
        }
      ]
    },
    {
      "cell_type": "code",
      "source": [
        "empty_keywords_df = df_cleaned[df_cleaned['matched_keywords'].apply(lambda x: isinstance(x, list) and len(x) == 0)]\n",
        "empty_keywords_df.shape"
      ],
      "metadata": {
        "colab": {
          "base_uri": "https://localhost:8080/"
        },
        "id": "JkvcdoUhHrS9",
        "outputId": "0da65240-63b5-4eaf-980a-5325fc12012d"
      },
      "execution_count": null,
      "outputs": [
        {
          "output_type": "execute_result",
          "data": {
            "text/plain": [
              "(16325, 33)"
            ]
          },
          "metadata": {},
          "execution_count": 15
        }
      ]
    },
    {
      "cell_type": "markdown",
      "source": [
        "## Observation:\n",
        "- There are 570 unique keyword combinations in this dataset, with 23% of the tweets (25.6K out of 110K) containing only \"Biden\" as a keyword.\n",
        "- 16,325 tweets (14.76% of total) do not contain any keywords from the manually defined keyword list. These columns will be dropped for further analysis"
      ],
      "metadata": {
        "id": "aBarcdFU0MdB"
      }
    },
    {
      "cell_type": "code",
      "source": [
        "df_cleaned.drop(empty_keywords_df.index, inplace=True)\n",
        "df_cleaned.shape"
      ],
      "metadata": {
        "id": "-XxiEXBj0L3J",
        "colab": {
          "base_uri": "https://localhost:8080/"
        },
        "outputId": "9beff18b-b824-446a-f39d-e8075707dc54"
      },
      "execution_count": null,
      "outputs": [
        {
          "output_type": "execute_result",
          "data": {
            "text/plain": [
              "(94235, 33)"
            ]
          },
          "metadata": {},
          "execution_count": 16
        }
      ]
    },
    {
      "cell_type": "code",
      "source": [
        "df_cleaned.to_csv(base_path + \"Part38_processed_final.csv\", index=False)"
      ],
      "metadata": {
        "id": "LvDVAZUeae81"
      },
      "execution_count": null,
      "outputs": []
    },
    {
      "cell_type": "markdown",
      "source": [
        "# Randomly Extract 2000 Tweets"
      ],
      "metadata": {
        "id": "-aMQNrobKWox"
      }
    },
    {
      "cell_type": "code",
      "source": [
        "from google.colab import drive\n",
        "drive.mount('/content/drive')"
      ],
      "metadata": {
        "colab": {
          "base_uri": "https://localhost:8080/"
        },
        "id": "DJ-flYgNaP3t",
        "outputId": "301f1897-6a20-4f0d-f079-64cdf69c77f7"
      },
      "execution_count": null,
      "outputs": [
        {
          "output_type": "stream",
          "name": "stdout",
          "text": [
            "Drive already mounted at /content/drive; to attempt to forcibly remount, call drive.mount(\"/content/drive\", force_remount=True).\n"
          ]
        }
      ]
    },
    {
      "cell_type": "code",
      "source": [
        "import pandas as pd\n",
        "base_path = \"/content/drive/MyDrive/MRP_Offensive_Content_Detection/Twitter_Data/Part_38/\"\n",
        "dataset_name = \"Part38_processed_final.csv\"\n",
        "df_cleaned = pd.read_csv(base_path + dataset_name)"
      ],
      "metadata": {
        "id": "2HiDSGTgawk1"
      },
      "execution_count": null,
      "outputs": []
    },
    {
      "cell_type": "code",
      "source": [
        "base_path = \"/content/drive/MyDrive/MRP_Offensive_Content_Detection/Twitter_Data/Tweets_for_Manual_Labeling/\""
      ],
      "metadata": {
        "id": "sd4i_iFkJe1J"
      },
      "execution_count": null,
      "outputs": []
    },
    {
      "cell_type": "code",
      "source": [
        "# Randomly select 2000 rows for manual labeling\n",
        "df_subset = df_cleaned.sample(n=2000, random_state=42)"
      ],
      "metadata": {
        "id": "ChCUBelXIqFb"
      },
      "execution_count": null,
      "outputs": []
    },
    {
      "cell_type": "code",
      "source": [
        "df_part1 = df_subset.head(1000)\n",
        "df_part1.to_csv(base_path + \"Part38_Random_1000_Tweets_For_Labeling_Part1_new.csv\", index=False)\n",
        "df_part2 = df_subset.tail(1000)\n",
        "df_part2.to_csv(base_path + \"Part38_Random_1000_Tweets_For_Labeling_Part2_new.csv\", index=False)"
      ],
      "metadata": {
        "id": "X8EM39Z0KcGX"
      },
      "execution_count": null,
      "outputs": []
    },
    {
      "cell_type": "code",
      "source": [
        "# Remove previous 2K based on text\n",
        "df_remaining = df_cleaned.drop(df_subset.index)\n",
        "df_remaining.shape"
      ],
      "metadata": {
        "colab": {
          "base_uri": "https://localhost:8080/"
        },
        "id": "pOC6XEb4KoFh",
        "outputId": "abafadf0-029b-4c06-ce63-40c6aa0977eb"
      },
      "execution_count": null,
      "outputs": [
        {
          "output_type": "execute_result",
          "data": {
            "text/plain": [
              "(92235, 33)"
            ]
          },
          "metadata": {},
          "execution_count": 23
        }
      ]
    },
    {
      "cell_type": "code",
      "source": [
        "df_remaining.to_csv(base_path + \"Part38_Remaining_Unlabeled_Tweets_after_extracting_2K.csv\", index=False)"
      ],
      "metadata": {
        "id": "M3SiwZqBK-tW"
      },
      "execution_count": null,
      "outputs": []
    },
    {
      "cell_type": "markdown",
      "source": [
        "# Extract another 3000 tweets for labeling"
      ],
      "metadata": {
        "id": "YsiJ1tsQLEpI"
      }
    },
    {
      "cell_type": "code",
      "source": [
        "# Sample next 3,000\n",
        "df_subset_next_3000 = df_remaining.sample(n=3000, random_state=77)"
      ],
      "metadata": {
        "id": "EfQA4Rz8LEZV"
      },
      "execution_count": null,
      "outputs": []
    },
    {
      "cell_type": "code",
      "source": [
        "df_subset_1k = df_subset_next_3000.head(1000)\n",
        "df_subset_1k.to_csv(base_path + \"Part38_Random_1000_Tweets_For_Labeling_Part3_new.csv\", index=False)"
      ],
      "metadata": {
        "id": "nV0sqCrdLSe2"
      },
      "execution_count": null,
      "outputs": []
    },
    {
      "cell_type": "code",
      "source": [
        "df_subset_2k = df_subset_next_3000.tail(2000)\n",
        "df_subset_2k.to_csv(base_path + \"Part38_Random_2000_Tweets_For_Labeling_Part4_new.csv\", index=False)"
      ],
      "metadata": {
        "id": "YvA5jk0xLWMM"
      },
      "execution_count": null,
      "outputs": []
    },
    {
      "cell_type": "code",
      "source": [
        "df_remaining_after_5k = df_remaining.drop(df_subset_next_3000.index)\n",
        "df_remaining_after_5k.shape"
      ],
      "metadata": {
        "colab": {
          "base_uri": "https://localhost:8080/"
        },
        "id": "GUPIwukdLc4H",
        "outputId": "4ca64f34-3e39-4c4a-a2c2-8a1fcb585456"
      },
      "execution_count": null,
      "outputs": [
        {
          "output_type": "execute_result",
          "data": {
            "text/plain": [
              "(89235, 33)"
            ]
          },
          "metadata": {},
          "execution_count": 30
        }
      ]
    },
    {
      "cell_type": "code",
      "source": [
        "df_remaining_after_5k.to_csv(base_path + \"Part38_Remaining_Unlabeled_Tweets_after_extracting_5K.csv\", index=False)"
      ],
      "metadata": {
        "id": "YkMDTcXRLlq-"
      },
      "execution_count": null,
      "outputs": []
    },
    {
      "cell_type": "markdown",
      "source": [
        "# Extract additional 1,500 tweets for manual labeling"
      ],
      "metadata": {
        "id": "m5xHF4TzLq7H"
      }
    },
    {
      "cell_type": "code",
      "source": [
        "# Randomly select 3000 rows for manual labeling\n",
        "df_new_1500 = df_remaining_after_5k.sample(n=1500, random_state=42)"
      ],
      "metadata": {
        "id": "JnEcPn7bLv_u"
      },
      "execution_count": null,
      "outputs": []
    },
    {
      "cell_type": "code",
      "source": [
        "df_new_1500.to_csv(base_path + \"Part38_Random_1500_Tweets_For_Labeling_Part5_new.csv\", index=False)"
      ],
      "metadata": {
        "id": "QUKskJkML6EP"
      },
      "execution_count": null,
      "outputs": []
    },
    {
      "cell_type": "code",
      "source": [
        "df_remaining_after_6500 = df_remaining_after_5k.drop(df_new_1500.index)"
      ],
      "metadata": {
        "id": "Vf5ktLVaMKRI"
      },
      "execution_count": null,
      "outputs": []
    },
    {
      "cell_type": "code",
      "source": [
        "df_remaining_after_6500.shape"
      ],
      "metadata": {
        "colab": {
          "base_uri": "https://localhost:8080/"
        },
        "id": "3RzcMxU5MYim",
        "outputId": "9f576c10-df22-45b9-d5a8-ace660f313a3"
      },
      "execution_count": null,
      "outputs": [
        {
          "output_type": "execute_result",
          "data": {
            "text/plain": [
              "(87735, 33)"
            ]
          },
          "metadata": {},
          "execution_count": 42
        }
      ]
    },
    {
      "cell_type": "code",
      "source": [
        "df_remaining_after_6500.to_csv(base_path + \"Part38_Remaining_Unlabeled_Tweets_after_extracting_6500.csv\", index=False)"
      ],
      "metadata": {
        "id": "gUrN-RJXMNp2"
      },
      "execution_count": null,
      "outputs": []
    },
    {
      "cell_type": "markdown",
      "source": [
        "# Combining all the randomly sampled tweets"
      ],
      "metadata": {
        "id": "XilYwpGjdutb"
      }
    },
    {
      "cell_type": "code",
      "source": [
        "df_combined = pd.concat([df_part1, df_part2, df_subset_1k, df_subset_2k, df_new_1500])"
      ],
      "metadata": {
        "id": "O2Uk6wRMdoez"
      },
      "execution_count": null,
      "outputs": []
    },
    {
      "cell_type": "code",
      "source": [
        "df_combined.shape"
      ],
      "metadata": {
        "colab": {
          "base_uri": "https://localhost:8080/"
        },
        "id": "_ZUwgS6-dqY9",
        "outputId": "0f7076d2-f4a2-4d1e-b266-f4d72a8dd188"
      },
      "execution_count": null,
      "outputs": [
        {
          "output_type": "execute_result",
          "data": {
            "text/plain": [
              "(6500, 33)"
            ]
          },
          "metadata": {},
          "execution_count": 45
        }
      ]
    }
  ]
}